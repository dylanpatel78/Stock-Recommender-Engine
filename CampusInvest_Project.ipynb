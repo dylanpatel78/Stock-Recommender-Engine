{
  "nbformat": 4,
  "nbformat_minor": 0,
  "metadata": {
    "colab": {
      "provenance": [],
      "authorship_tag": "ABX9TyOr2QjiMt8MfhYg/xe6y+kT",
      "include_colab_link": true
    },
    "kernelspec": {
      "name": "python3",
      "display_name": "Python 3"
    },
    "language_info": {
      "name": "python"
    }
  },
  "cells": [
    {
      "cell_type": "markdown",
      "metadata": {
        "id": "view-in-github",
        "colab_type": "text"
      },
      "source": [
        "<a href=\"https://colab.research.google.com/github/dylanpatel78/Stock-Recommender-Engine/blob/main/CampusInvest_Project.ipynb\" target=\"_parent\"><img src=\"https://colab.research.google.com/assets/colab-badge.svg\" alt=\"Open In Colab\"/></a>"
      ]
    },
    {
      "cell_type": "markdown",
      "source": [
        "# Setting Up API Access and Dependencies"
      ],
      "metadata": {
        "id": "7W8JQ96RdMht"
      }
    },
    {
      "cell_type": "code",
      "source": [
        "import requests\n",
        "import pandas as pd\n",
        "from textblob import TextBlob\n",
        "import tweepy\n",
        "import matplotlib.pyplot as plt\n",
        "import os"
      ],
      "metadata": {
        "id": "UfyFr0SIdQy9"
      },
      "execution_count": null,
      "outputs": []
    },
    {
      "cell_type": "markdown",
      "source": [
        "# Fetching the Stock Data"
      ],
      "metadata": {
        "id": "Xn0vuUGzfUyw"
      }
    },
    {
      "cell_type": "code",
      "source": [
        "import yfinance as yf\n",
        "import requests\n",
        "\n",
        "\n",
        "# Replace with your own NewsAPI key\n",
        "NEWS_API_KEY = 'fa27492dd4ba4f3696d2607b3d89925f'\n",
        "\n",
        "# Fetch major stocks in all sectors or use sector-based ETFs\n",
        "def fetch_all_stocks_in_sector(sector):\n",
        "    sector_mapping = {\n",
        "        \"Technology\": [\"AAPL\", \"MSFT\", \"GOOGL\", \"META\", \"TSLA\", \"NVDA\"],\n",
        "        \"Healthcare\": [\"JNJ\", \"PFE\", \"MRK\", \"ABT\", \"UNH\", \"CVS\"],\n",
        "        \"Financials\": [\"JPM\", \"BAC\", \"WFC\", \"C\", \"GS\", \"MS\"],\n",
        "        \"Consumer Discretionary\": [\"AMZN\", \"HD\", \"MCD\", \"SBUX\", \"NKE\"],\n",
        "        \"Energy\": [\"XOM\", \"CVX\", \"BP\", \"TTE\", \"COP\"],\n",
        "        \"Industrials\": [\"BA\", \"MMM\", \"HON\", \"UPS\", \"GE\"],\n",
        "        \"Real Estate\": [\"AMT\", \"PLD\", \"CBRE\", \"SPG\", \"PSA\"],\n",
        "        \"Materials\": [\"LIN\", \"APD\", \"ECL\", \"NEM\", \"SHW\"],\n",
        "        \"Utilities\": [\"NEE\", \"DUK\", \"SO\", \"D\", \"AEP\"],\n",
        "        \"Communication Services\": [\"GOOG\", \"DIS\", \"NFLX\", \"CMCSA\"],\n",
        "        \"Consumer Staples\": [\"PG\", \"KO\", \"PEP\", \"WMT\", \"COST\"]\n",
        "    }\n",
        "    return sector_mapping.get(sector, [])\n",
        "\n",
        "# Fetch stock data using yfinance\n",
        "def fetch_stock_data(symbol):\n",
        "    try:\n",
        "        stock = yf.Ticker(symbol)\n",
        "        df = stock.history(period=\"3mo\")  # Fetch 3 months of historical data\n",
        "        info = stock.info\n",
        "\n",
        "        if df.empty:\n",
        "            print(f\"No data available for {symbol}\")\n",
        "            return None, None  # Return None for both stock data and info if no data\n",
        "        return df, info\n",
        "    except Exception as e:\n",
        "        print(f\"Error fetching data for {symbol} from Yahoo Finance: {e}\")\n",
        "        return None, None\n"
      ],
      "metadata": {
        "id": "AD0hD75dfXo4"
      },
      "execution_count": null,
      "outputs": []
    },
    {
      "cell_type": "markdown",
      "source": [
        "# Doing the Sentiment Analysis\n"
      ],
      "metadata": {
        "id": "upLwhjfvffvF"
      }
    },
    {
      "cell_type": "code",
      "source": [
        "from textblob import TextBlob\n",
        "import tweepy\n",
        "\n",
        "client = tweepy.Client(bearer_token='AAAAAAAAAAAAAAAAAAAAAEAmvwEAAAAAEhguaAjkXhImcbAP0i64KXiwX6w%3D32lNc5QFxfDMX1XBpq0aOJCkEl5nlpAPeUddcjFRxUquJmwN68')\n",
        "\n",
        "def analyze_sentiment(tweets):\n",
        "    total_polarity = 0\n",
        "    count = 0\n",
        "\n",
        "    # Looping through the tweets and analyze sentiment\n",
        "    for tweet in tweets:\n",
        "        analysis = TextBlob(tweet.text)\n",
        "        polarity = analysis.sentiment.polarity  # Polarity ranges from -1 (negative) to 1 (positive)\n",
        "        total_polarity += polarity\n",
        "        count += 1\n",
        "\n",
        "    # Returning the average polarity\n",
        "    if count > 0:\n",
        "        return total_polarity / count\n",
        "    else:\n",
        "        return 0  # Neutralizing the sentiment if no tweets are found\n",
        "\n",
        "def get_stock_sentiment(symbol):\n",
        "    try:\n",
        "        response = client.search_recent_tweets(query=symbol, max_results=100, tweet_fields=['text', 'lang'])\n",
        "        tweets = response.data\n",
        "        if tweets:\n",
        "            sentiment = analyze_sentiment(tweets)\n",
        "            return sentiment\n",
        "        else:\n",
        "            print(f\"No tweets found for {symbol}\")\n",
        "            return 0  # Returning the neutral sentiment if no tweets have been found\n",
        "    except Exception as e:\n",
        "        print(f\"Error fetching tweets for {symbol}: {e}\")\n",
        "        return 0  # Returning the neutral sentiment if there's an error\n",
        "\n",
        "# Fetching stock news using the NewsAPI\n",
        "def fetch_stock_news(symbol):\n",
        "    url = f\"https://newsapi.org/v2/everything?q={symbol}&apiKey={NEWS_API_KEY}\"\n",
        "    response = requests.get(url)\n",
        "    if response.status_code == 200:\n",
        "        return response.json()['articles']\n",
        "    else:\n",
        "        print(f\"Error fetching news for {symbol}: {response.status_code}\")\n",
        "        return None\n",
        "\n",
        "# Analyzing the  sentiment based on news articles\n",
        "def analyze_sentiment(articles):\n",
        "    total_polarity = 0\n",
        "    count = 0\n",
        "    for article in articles:\n",
        "        if article['description']:  # Ensuring the the article has a description\n",
        "            analysis = TextBlob(article['description'])\n",
        "            total_polarity += analysis.sentiment.polarity\n",
        "            count += 1\n",
        "    return total_polarity / count if count > 0 else 0 # Returning the average polarity\n",
        "\n"
      ],
      "metadata": {
        "id": "7GGSb5TFhiVk"
      },
      "execution_count": null,
      "outputs": []
    },
    {
      "cell_type": "markdown",
      "source": [
        "# Recommend Stocks Based on Budget"
      ],
      "metadata": {
        "id": "5FKB4JVjhkoh"
      }
    },
    {
      "cell_type": "code",
      "source": [],
      "metadata": {
        "id": "yah5JGZGhkcQ"
      },
      "execution_count": null,
      "outputs": []
    },
    {
      "cell_type": "markdown",
      "source": [
        "# Data Visualization\n"
      ],
      "metadata": {
        "id": "vHZ4rE06h9YS"
      }
    },
    {
      "cell_type": "code",
      "source": [
        "def plot_stock_data(df, symbol):\n",
        "    plt.figure(figsize=(10, 5))\n",
        "    plt.plot(df.index, df['Close'], label=f'{symbol} Closing Price')\n",
        "    plt.title(f'{symbol} Stock Price')\n",
        "    plt.xlabel('Date')\n",
        "    plt.ylabel('Price (USD)')\n",
        "    plt.legend()\n",
        "    plt.show()\n"
      ],
      "metadata": {
        "id": "jZwEH6PCiBP4"
      },
      "execution_count": null,
      "outputs": []
    },
    {
      "cell_type": "markdown",
      "source": [
        "# Ranking the Stocks\n"
      ],
      "metadata": {
        "id": "QIX0TaIJiD4_"
      }
    },
    {
      "cell_type": "code",
      "source": [
        "# Rankung stocks based on the performance and sentiment analysis\n",
        "def rank_stocks(stocks, budget):\n",
        "    ranked_stocks = []\n",
        "    for stock in stocks:\n",
        "        df, info = fetch_stock_data(stock)\n",
        "        if df is not None and info is not None:\n",
        "            latest_close = df['Close'].iloc[-1]\n",
        "            if latest_close <= budget:\n",
        "                sentiment = analyze_sentiment(fetch_stock_news(stock))  # Getting the news sentiment\n",
        "                performance = df['Close'].iloc[-1] / df['Close'].iloc[-30]\n",
        "                score = (0.7 * performance) + (0.3 * sentiment)  # Using the scoring strategy\n",
        "                shares = budget // latest_close  # Calculating number of shares\n",
        "\n",
        "                # Appending the additional info: stock ticker, company name, score, price, shares\n",
        "                ranked_stocks.append({\n",
        "                    'ticker': stock,\n",
        "                    'name': info.get('longName', 'Unknown'),\n",
        "                    'score': score,\n",
        "                    'price': latest_close,\n",
        "                    'shares_to_buy': shares\n",
        "                })\n",
        "        else:\n",
        "            print(f\"Not enough data for {stock}. Skipping.\")\n",
        "\n",
        "    ranked_stocks.sort(key=lambda x: x['score'], reverse=True)  # Sorting by score based on the formula\n",
        "    return ranked_stocks[:4]  # Returning top 4 stocks to the user\n",
        "\n",
        "# Asking for input from the user\n",
        "sector = input(\"Enter the sector you're interested in (e.g., Technology, Healthcare, Financials, Energy, etc.): \")\n",
        "budget = float(input(\"Enter your budget (in $): \"))\n",
        "\n",
        "# Fetching all the stocks based on the chosen sector\n",
        "stocks = fetch_all_stocks_in_sector(sector)\n",
        "\n",
        "# Ranking the stocks based on performance and sentiment\n",
        "top_stocks = rank_stocks(stocks, budget)\n",
        "\n",
        "# Displaying the top stocks to the user\n",
        "if top_stocks:\n",
        "    print(f\"With a budget of ${budget}, you can afford the following stocks:\")\n",
        "    for stock in top_stocks:\n",
        "        print(f\"Company: {stock['name']}, Ticker: {stock['ticker']}, Price per Share: ${stock['price']:.2f}, Shares to Buy: {int(stock['shares_to_buy'])}, Score: {stock['score']:.2f}\")\n",
        "else:\n",
        "    print(\"No suitable stocks found based on your budget and sector.\")\n"
      ],
      "metadata": {
        "colab": {
          "base_uri": "https://localhost:8080/"
        },
        "id": "jG-DKc3FiHB8",
        "outputId": "fc2e3822-2565-4821-eb46-043936334e8b"
      },
      "execution_count": null,
      "outputs": [
        {
          "output_type": "stream",
          "name": "stdout",
          "text": [
            "Enter the sector you're interested in (e.g., Technology, Healthcare, Financials, Energy, etc.): Healthcare\n",
            "Enter your budget (in $): 1000\n",
            "With a budget of $1000.0, you can afford the following stocks:\n",
            "Company: Johnson & Johnson, Ticker: JNJ, Price per Share: $165.52, Shares to Buy: 6, Score: 0.75\n",
            "Company: Abbott Laboratories, Ticker: ABT, Price per Share: $116.40, Shares to Buy: 8, Score: 0.75\n",
            "Company: UnitedHealth Group Incorporated, Ticker: UNH, Price per Share: $594.32, Shares to Buy: 1, Score: 0.74\n",
            "Company: Merck & Co., Inc., Ticker: MRK, Price per Share: $115.86, Shares to Buy: 8, Score: 0.73\n"
          ]
        }
      ]
    }
  ]
}